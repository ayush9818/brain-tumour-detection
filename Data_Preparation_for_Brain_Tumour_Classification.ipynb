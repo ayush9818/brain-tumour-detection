{
  "nbformat": 4,
  "nbformat_minor": 0,
  "metadata": {
    "colab": {
      "name": "Data Preparation for Brain Tumour Classification",
      "provenance": [],
      "authorship_tag": "ABX9TyMkY86OdRclMR8IGUUxicZ9",
      "include_colab_link": true
    },
    "kernelspec": {
      "name": "python3",
      "display_name": "Python 3"
    },
    "accelerator": "GPU"
  },
  "cells": [
    {
      "cell_type": "markdown",
      "metadata": {
        "id": "view-in-github",
        "colab_type": "text"
      },
      "source": [
        "<a href=\"https://colab.research.google.com/github/ayush9818/brain-tumour-detection/blob/main/Data_Preparation_for_Brain_Tumour_Classification.ipynb\" target=\"_parent\"><img src=\"https://colab.research.google.com/assets/colab-badge.svg\" alt=\"Open In Colab\"/></a>"
      ]
    },
    {
      "cell_type": "code",
      "metadata": {
        "id": "2P2mkOE0VMUo"
      },
      "source": [
        "from google.colab import drive\n",
        "drive.mount('/content/drive/')"
      ],
      "execution_count": null,
      "outputs": []
    },
    {
      "cell_type": "code",
      "metadata": {
        "id": "4bwVmX_ZcYJA"
      },
      "source": [
        "import os\n",
        "import tensorflow as tf\n",
        "from keras.preprocessing.image import ImageDataGenerator\n",
        "import cv2\n",
        "import imutils\n",
        "import matplotlib.pyplot as plt\n",
        "from os import listdir\n",
        "import time    \n",
        "import pandas as pd\n",
        "%matplotlib inline"
      ],
      "execution_count": null,
      "outputs": []
    },
    {
      "cell_type": "code",
      "metadata": {
        "id": "-b0GVgQeVvva"
      },
      "source": [
        "data_path = '/content/drive/MyDrive/brain_tumor_dataset/'\n",
        "assert os.path.exists(data_path)"
      ],
      "execution_count": null,
      "outputs": []
    },
    {
      "cell_type": "code",
      "metadata": {
        "colab": {
          "base_uri": "https://localhost:8080/"
        },
        "id": "oWFws6BocXaq",
        "outputId": "e51969c3-f4b9-4d75-d8d8-10a09914e553"
      },
      "source": [
        "os.listdir(data_path)"
      ],
      "execution_count": null,
      "outputs": [
        {
          "output_type": "execute_result",
          "data": {
            "text/plain": [
              "['no', 'yes', 'augmented_data', 'df.csv', 'model_training']"
            ]
          },
          "metadata": {
            "tags": []
          },
          "execution_count": 4
        }
      ]
    },
    {
      "cell_type": "code",
      "metadata": {
        "id": "NmTcszd6gJg7"
      },
      "source": [
        "# Nicely formatted time string\n",
        "def hms_string(sec_elapsed):\n",
        "    h = int(sec_elapsed / (60 * 60))\n",
        "    m = int((sec_elapsed % (60 * 60)) / 60)\n",
        "    s = sec_elapsed % 60\n",
        "    return f\"{h}:{m}:{round(s,1)}\""
      ],
      "execution_count": null,
      "outputs": []
    },
    {
      "cell_type": "code",
      "metadata": {
        "id": "bOpEGpnqczuO"
      },
      "source": [
        "def augment_data(file_dir, n_generated_samples, save_to_dir):\n",
        "  \n",
        "  data_gen = ImageDataGenerator(rotation_range=10, \n",
        "                                  width_shift_range=0.1, \n",
        "                                  height_shift_range=0.1, \n",
        "                                  shear_range=0.1, \n",
        "                                  brightness_range=(0.3, 1.0),\n",
        "                                  horizontal_flip=True, \n",
        "                                  vertical_flip=True, \n",
        "                                  fill_mode='nearest'\n",
        "                                   )\n",
        "  \n",
        "  if os.path.exists(save_to_dir) == False:\n",
        "    os.makedirs(save_to_dir)\n",
        "\n",
        "    \n",
        "  for filename in listdir(file_dir):\n",
        "      image = cv2.imread(os.path.join(file_dir,filename))\n",
        "      image = image.reshape((1,)+image.shape)\n",
        "      save_prefix = 'aug_' + filename[:-4]\n",
        "      i=0\n",
        "      for batch in data_gen.flow(x=image, batch_size=1, save_to_dir=save_to_dir, \n",
        "                                          save_prefix=save_prefix, save_format='jpg'):\n",
        "          i += 1\n",
        "          if i > n_generated_samples:\n",
        "              break"
      ],
      "execution_count": null,
      "outputs": []
    },
    {
      "cell_type": "code",
      "metadata": {
        "colab": {
          "base_uri": "https://localhost:8080/"
        },
        "id": "WJiUT6ipeITg",
        "outputId": "dee108e1-a199-4ca9-98be-7b006bc7c37e"
      },
      "source": [
        "for cls in listdir(data_path):\n",
        "  print(listdir(os.path.join(data_path,cls))[0])"
      ],
      "execution_count": null,
      "outputs": [
        {
          "output_type": "stream",
          "text": [
            "11 no.jpg\n",
            "Y58.JPG\n"
          ],
          "name": "stdout"
        }
      ]
    },
    {
      "cell_type": "code",
      "metadata": {
        "colab": {
          "base_uri": "https://localhost:8080/"
        },
        "id": "0eysOYXqeRoW",
        "outputId": "3495f193-df18-48f0-8f18-a513603e5f4c"
      },
      "source": [
        "save_path = '/content/drive/MyDrive/brain_tumor_dataset/augmented_data/'\n",
        "start_time = time.time()\n",
        "# augment yes class\n",
        "augment_data(file_dir = data_path+'yes',\n",
        "             n_generated_samples = 6, \n",
        "             save_to_dir = save_path+'yes')\n",
        "\n",
        "# augment no class\n",
        "augment_data(file_dir = data_path+'no',\n",
        "             n_generated_samples = 9, \n",
        "             save_to_dir = save_path+'no')\n",
        "\n",
        "end_time = time.time()\n",
        "execution_time = (end_time - start_time)\n",
        "print(f\"Elapsed time: {hms_string(execution_time)}\")"
      ],
      "execution_count": null,
      "outputs": [
        {
          "output_type": "stream",
          "text": [
            "Elapsed time: 0:1:52.5\n"
          ],
          "name": "stdout"
        }
      ]
    },
    {
      "cell_type": "code",
      "metadata": {
        "id": "JAv14w05gWe3"
      },
      "source": [
        "def create_data_summary(data_path):\n",
        "  yes_path=data_path+'yes'\n",
        "  no_path =data_path+'no'\n",
        "\n",
        "  yes_samples = len(listdir(yes_path))\n",
        "  no_samples  = len(listdir(no_path))\n",
        "\n",
        "  total_samples = yes_samples + no_samples\n",
        "\n",
        "  print(f'No of Samples : {total_samples}')\n",
        "  print(\"Total Samples with Tumour : {}, Percentage : {}\".format(yes_samples, yes_samples / total_samples))\n",
        "  print(\"Total Samples without Tumour : {}, Percentage : {}\".format(no_samples, no_samples / total_samples))"
      ],
      "execution_count": null,
      "outputs": []
    },
    {
      "cell_type": "code",
      "metadata": {
        "colab": {
          "base_uri": "https://localhost:8080/"
        },
        "id": "fEUvthDXjz9X",
        "outputId": "b0b26a47-0fc8-4d54-cded-46227c1c50c1"
      },
      "source": [
        "create_data_summary(save_path)"
      ],
      "execution_count": null,
      "outputs": [
        {
          "output_type": "stream",
          "text": [
            "No of Samples : 2064\n",
            "Total Samples with Tumour : 1085, Percentage : 0.5256782945736435\n",
            "Total Samples without Tumour : 979, Percentage : 0.4743217054263566\n"
          ],
          "name": "stdout"
        }
      ]
    },
    {
      "cell_type": "code",
      "metadata": {
        "id": "M2I5IkAmnC0R"
      },
      "source": [
        "import pandas as pd\n",
        "import glob\n",
        "import random\n",
        "\n",
        "split_dict = {'train' : 0.7, 'test' : 0.15, 'valid': 0.15}\n",
        "\n",
        "\n",
        "\n",
        "def get_train_test_valid_split(image_path_list):\n",
        "  total = len(image_path_list)\n",
        "  test = int(split_dict['test'] * total)\n",
        "  valid = int((total-test) * split_dict['valid'])\n",
        "  train = total-test-valid\n",
        "  assert total == train+test+valid\n",
        "  out=['train']*train+['test']*test+['valid']*valid\n",
        "  return out\n",
        "\n",
        "def create_df(dataset_path):\n",
        "  df = pd.DataFrame(columns=['image_path','image_name','type','label'])\n",
        "  for cls in listdir(dataset_path):\n",
        "    path = os.path.join(os.path.join(save_path,cls),\"*.jpg\")\n",
        "    image_path_list=glob.glob(path)\n",
        "    random.shuffle(image_path_list)\n",
        "    type_ = get_train_test_valid_split(image_path_list)\n",
        "    image_name = [  image_path.split('/')[-1]    for image_path in image_path_list]\n",
        "    df = pd.concat([df, pd.DataFrame({'image_path' : image_path_list,\n",
        "                                      'image_name' : image_name, \n",
        "                                      'type' : type_,\n",
        "                                      'label' : [cls] * len(image_path_list) })])\n",
        "  return df"
      ],
      "execution_count": null,
      "outputs": []
    },
    {
      "cell_type": "code",
      "metadata": {
        "id": "ZfM9z9FPr4SJ"
      },
      "source": [
        "df = create_df(save_path)"
      ],
      "execution_count": null,
      "outputs": []
    },
    {
      "cell_type": "code",
      "metadata": {
        "id": "Xy7N5hLBuX2Q"
      },
      "source": [
        "df.to_csv('/content/drive/MyDrive/brain_tumor_dataset/df.csv')"
      ],
      "execution_count": null,
      "outputs": []
    },
    {
      "cell_type": "code",
      "metadata": {
        "colab": {
          "base_uri": "https://localhost:8080/",
          "height": 442
        },
        "id": "jtcbdhuguZNy",
        "outputId": "4dbd52bf-d724-477a-c0e2-c0b096ab3d0b"
      },
      "source": [
        "df = pd.read_csv('/content/drive/MyDrive/brain_tumor_dataset/df.csv')\n",
        "train_df = df[df['type']=='train']\n",
        "print(train_df.shape)\n",
        "\n",
        "valid_df = df[df['type']=='valid']\n",
        "print(valid_df.shape)\n",
        "\n",
        "train_df['is_valid']=False\n",
        "valid_df['is_valid'] = True\n",
        "\n",
        "combined_df = pd.concat([train_df,valid_df])\n",
        "combined_df.head()"
      ],
      "execution_count": null,
      "outputs": [
        {
          "output_type": "stream",
          "text": [
            "(1494, 5)\n",
            "(262, 5)\n"
          ],
          "name": "stdout"
        },
        {
          "output_type": "stream",
          "text": [
            "/usr/local/lib/python3.7/dist-packages/ipykernel_launcher.py:8: SettingWithCopyWarning: \n",
            "A value is trying to be set on a copy of a slice from a DataFrame.\n",
            "Try using .loc[row_indexer,col_indexer] = value instead\n",
            "\n",
            "See the caveats in the documentation: https://pandas.pydata.org/pandas-docs/stable/user_guide/indexing.html#returning-a-view-versus-a-copy\n",
            "  \n",
            "/usr/local/lib/python3.7/dist-packages/ipykernel_launcher.py:9: SettingWithCopyWarning: \n",
            "A value is trying to be set on a copy of a slice from a DataFrame.\n",
            "Try using .loc[row_indexer,col_indexer] = value instead\n",
            "\n",
            "See the caveats in the documentation: https://pandas.pydata.org/pandas-docs/stable/user_guide/indexing.html#returning-a-view-versus-a-copy\n",
            "  if __name__ == '__main__':\n"
          ],
          "name": "stderr"
        },
        {
          "output_type": "execute_result",
          "data": {
            "text/html": [
              "<div>\n",
              "<style scoped>\n",
              "    .dataframe tbody tr th:only-of-type {\n",
              "        vertical-align: middle;\n",
              "    }\n",
              "\n",
              "    .dataframe tbody tr th {\n",
              "        vertical-align: top;\n",
              "    }\n",
              "\n",
              "    .dataframe thead th {\n",
              "        text-align: right;\n",
              "    }\n",
              "</style>\n",
              "<table border=\"1\" class=\"dataframe\">\n",
              "  <thead>\n",
              "    <tr style=\"text-align: right;\">\n",
              "      <th></th>\n",
              "      <th>Unnamed: 0</th>\n",
              "      <th>image_path</th>\n",
              "      <th>image_name</th>\n",
              "      <th>type</th>\n",
              "      <th>label</th>\n",
              "      <th>is_valid</th>\n",
              "    </tr>\n",
              "  </thead>\n",
              "  <tbody>\n",
              "    <tr>\n",
              "      <th>0</th>\n",
              "      <td>0</td>\n",
              "      <td>/content/drive/MyDrive/brain_tumor_dataset/aug...</td>\n",
              "      <td>aug_Y7_0_745.jpg</td>\n",
              "      <td>train</td>\n",
              "      <td>yes</td>\n",
              "      <td>False</td>\n",
              "    </tr>\n",
              "    <tr>\n",
              "      <th>1</th>\n",
              "      <td>1</td>\n",
              "      <td>/content/drive/MyDrive/brain_tumor_dataset/aug...</td>\n",
              "      <td>aug_Y81_0_3635.jpg</td>\n",
              "      <td>train</td>\n",
              "      <td>yes</td>\n",
              "      <td>False</td>\n",
              "    </tr>\n",
              "    <tr>\n",
              "      <th>2</th>\n",
              "      <td>2</td>\n",
              "      <td>/content/drive/MyDrive/brain_tumor_dataset/aug...</td>\n",
              "      <td>aug_Y160_0_1252.jpg</td>\n",
              "      <td>train</td>\n",
              "      <td>yes</td>\n",
              "      <td>False</td>\n",
              "    </tr>\n",
              "    <tr>\n",
              "      <th>3</th>\n",
              "      <td>3</td>\n",
              "      <td>/content/drive/MyDrive/brain_tumor_dataset/aug...</td>\n",
              "      <td>aug_Y3_0_9109.jpg</td>\n",
              "      <td>train</td>\n",
              "      <td>yes</td>\n",
              "      <td>False</td>\n",
              "    </tr>\n",
              "    <tr>\n",
              "      <th>4</th>\n",
              "      <td>4</td>\n",
              "      <td>/content/drive/MyDrive/brain_tumor_dataset/aug...</td>\n",
              "      <td>aug_Y242_0_5993.jpg</td>\n",
              "      <td>train</td>\n",
              "      <td>yes</td>\n",
              "      <td>False</td>\n",
              "    </tr>\n",
              "  </tbody>\n",
              "</table>\n",
              "</div>"
            ],
            "text/plain": [
              "   Unnamed: 0  ... is_valid\n",
              "0           0  ...    False\n",
              "1           1  ...    False\n",
              "2           2  ...    False\n",
              "3           3  ...    False\n",
              "4           4  ...    False\n",
              "\n",
              "[5 rows x 6 columns]"
            ]
          },
          "metadata": {
            "tags": []
          },
          "execution_count": 8
        }
      ]
    },
    {
      "cell_type": "code",
      "metadata": {
        "colab": {
          "base_uri": "https://localhost:8080/"
        },
        "id": "MlrwdmlEuz1w",
        "outputId": "4eed0998-a97d-47c0-dc7a-9de9159f6bf6"
      },
      "source": [
        "print(combined_df.shape)"
      ],
      "execution_count": null,
      "outputs": [
        {
          "output_type": "stream",
          "text": [
            "(1756, 6)\n"
          ],
          "name": "stdout"
        }
      ]
    }
  ]
}